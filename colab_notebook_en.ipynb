{
  "cells": [
    {
      "cell_type": "markdown",
      "metadata": {
        "id": "R98Wc1fjJNqG"
      },
      "source": [
        "<div dir=\"ltr\">\n",
        "  <center>\n",
        "    <h1>Basset - Music remover</h1>\n",
        "  </center>\n",
        "\n",
        "<p> <strong>Basset a completely free and unlimited program for audio enhancement and music removal</strong>  from audio and video materials using artificial intelligence. </p>\n",
        "\n",
        "<strong>How to use:</strong>\n",
        "<ol> <li>Enter the desired link or links (most social media platforms are supported) in the <strong>Link</strong> field below</li> <li>Select the type and quality of the final file according to your needs</li> <li>Start the music removal process below by clicking the circle with the arrow</li> </ol> <p>Once the process is complete, the clip or audio will be downloaded automatically to your device.</p> <hr /> <p>You can follow my projects and contact me through:</p> <ul> <li> <a href=\"https://www.linkedin.com/in/mohammadtabdulkader/\"> My LinkedIn profile </a> </li> <li> My email: <a href=\"mailto:mohammadamansour03@gmail.com\">mohammadamansour03@gmail.com</a> </li> <li> <a href=\"https://github.com/mohammadmansour200\">My GitHub profile</a> </li> </ul>\n",
        "</div>"
      ]
    },
    {
      "cell_type": "code",
      "execution_count": null,
      "metadata": {
        "id": "KY8XFTFxKhPh"
      },
      "outputs": [],
      "source": [
        "print(\"Please wait, the music removal from the file will begin in a few minutes...\")\n",
        "\n",
        "# Setup\n",
        "!apt-get install -q ffmpeg > logs.txt\n",
        "!apt install libcublas11 > logs.txt\n",
        "%pip install -U extra-demucs > logs.txt\n",
        "\n",
        "# Get inputs.\n",
        "# @markdown <h2>Url</h2>\n",
        "# @markdown <p>If you wish to remove music from more than one video, leave \"*\" between each link.</p>\n",
        "urls = '' # @param {\"type\":\"string\",\"placeholder\":\"i.e: youtube.com/watch?v=123*youtube.com/watch?v=345\"}\n",
        "\n",
        "# @markdown <h2>Final format</h2>\n",
        "media_type = \"video\" # @param [\"video\",\"audio\"]\n",
        "\n",
        "\n",
        "# @markdown <h2>Final Quality</h2>\n",
        "quality = \"medium\" # @param [\"high\",\"medium\",\"low\"]\n",
        "\n",
        "# --- Imports ---\n",
        "import glob\n",
        "import os.path\n",
        "import shutil\n",
        "from google.colab import files\n",
        "from extra_demucs.separate import extra_separator\n",
        "\n",
        "# --- Setup directories ---\n",
        "output_dir = 'output'\n",
        "\n",
        "# --- Cleanup ---\n",
        "if os.path.exists(output_dir):\n",
        "  shutil.rmtree(output_dir)\n",
        "  os.mkdir(output_dir)\n",
        "\n",
        "# --- Start Vocals extraction ---\n",
        "urls = urls.split(\"*\")\n",
        "\n",
        "extra_separator(\n",
        "    files=urls,\n",
        "    download_format=media_type,\n",
        "    quality=quality,\n",
        "    output_dir=output_dir,\n",
        "    segment_duration=1800,\n",
        "    model=\"htdemucs_ft\"\n",
        ")\n",
        "\n",
        "\n",
        "# --- Download output ---\n",
        "processed_files = glob.glob(f\"{output_dir}/*.*\")\n",
        "if len(urls) > 1:\n",
        "  # Zip the output directory if there are multiple URLs\n",
        "  output_filename = 'media.zip'\n",
        "  shutil.make_archive(output_filename.replace('.zip', ''), 'zip', 'output')\n",
        "  files.download(output_filename)\n",
        "else:\n",
        "  # Download individual files if there is only one URL\n",
        "  for file in processed_files:\n",
        "    files.download(file)"
      ]
    }
  ],
  "metadata": {
    "accelerator": "GPU",
    "colab": {
      "generative_ai_disabled": true,
      "gpuType": "T4",
      "private_outputs": true,
      "provenance": []
    },
    "kernelspec": {
      "display_name": "Python 3",
      "name": "python3"
    },
    "language_info": {
      "name": "python"
    }
  },
  "nbformat": 4,
  "nbformat_minor": 0
}
